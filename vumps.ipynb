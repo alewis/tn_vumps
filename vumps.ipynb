{
 "cells": [
  {
   "cell_type": "code",
   "execution_count": 10,
   "metadata": {},
   "outputs": [
    {
     "name": "stdout",
     "output_type": "stream",
     "text": [
      "The autoreload extension is already loaded. To reload it, use:\n",
      "  %reload_ext autoreload\n"
     ]
    }
   ],
   "source": [
    "import drivers\n",
    "import params\n",
    "import matrices\n",
    "import numpy as np\n",
    "%load_ext autoreload\n",
    "%autoreload 2"
   ]
  },
  {
   "cell_type": "code",
   "execution_count": 29,
   "metadata": {
    "scrolled": false
   },
   "outputs": [
    {
     "name": "stdout",
     "output_type": "stream",
     "text": [
      "vuMPS, a love story.\n",
      "**************************************************************\n",
      "Initial solve time: 1.4303690579999966\n",
      "Initial energy: 0.00958962\n",
      "And so it begins...\n",
      "N = 1| eps = 9.65e-01| E = 0.6894340515136719| dE = 6.80e-01| dt= 3.11e+00\n",
      "N = 2| eps = 5.72e-01| E = 1.2790497541427612| dE = 5.90e-01| dt= 3.08e+00\n",
      "N = 3| eps = 3.51e-01| E = 1.0789668560028076| dE = 2.00e-01| dt= 3.11e+00\n",
      "N = 4| eps = 2.42e-01| E = 1.2797198295593262| dE = 2.01e-01| dt= 3.08e+00\n",
      "N = 5| eps = 1.08e-02| E = 1.2699866294860840| dE = 9.73e-03| dt= 3.19e+00\n",
      "N = 6| eps = 3.12e-03| E = 1.2712906599044800| dE = 1.30e-03| dt= 2.96e+00\n",
      "N = 7| eps = 1.74e-03| E = 1.2720279693603516| dE = 7.37e-04| dt= 3.03e+00\n",
      "N = 8| eps = 1.05e-03| E = 1.2723591327667236| dE = 3.31e-04| dt= 2.97e+00\n",
      "N = 9| eps = 6.40e-04| E = 1.2725279331207275| dE = 1.69e-04| dt= 2.96e+00\n",
      "Convergence achieved at iteration 9\n",
      "The main loops took 27.51533692099997 seconds.\n",
      "Simulation finished. Pickling results.\n",
      "Pickling to ./vumps/pickles/_t9.pkl\n",
      "{'Iteration': 2.9565608289999545, 'Gradient': 1.7417170520000127, 'HAc': 0.9452273750000586, 'Hc': 0.7853037419999964, 'Gauge Match': 0.009922691000042505, 'Loss': 0.0012580989999833037, 'Environment': 1.2137433399999509, 'LH': 0.6441013859999885, 'RH': 0.5696384790001048, 'Diagnostics': 0.002841767999939293, 'Total': 2.9594703320000235}\n"
     ]
    }
   ],
   "source": [
    "chi = 16\n",
    "vumps_params = params.vumps_params()\n",
    "heff_params = params.krylov_params(n_krylov=40, max_restarts=10)\n",
    "env_params = params.gmres_params(n_krylov=40, max_restarts=10)\n",
    "data, timing = drivers.vumps_XX(chi, vumps_params=vumps_params, heff_params=heff_params, env_params=env_params, \n",
    "                                dtype=np.float64, backend=\"jax\")\n",
    "print(timing)"
   ]
  },
  {
   "cell_type": "code",
   "execution_count": 28,
   "metadata": {},
   "outputs": [
    {
     "name": "stdout",
     "output_type": "stream",
     "text": [
      "vuMPS, a love story.\n",
      "**************************************************************\n",
      "Initial solve time: 0.027949734000003446\n",
      "Initial energy: 0.035824337542334675\n",
      "And so it begins...\n",
      "N = 1| eps = 4.69e-01| E = 1.2815664058425149| dE = 1.25e+00| dt= 1.02e-01\n",
      "N = 2| eps = 2.17e-01| E = 1.2261326868396276| dE = 5.54e-02| dt= 9.18e-02\n",
      "N = 3| eps = 2.96e-02| E = 1.2686492978185151| dE = 4.25e-02| dt= 9.18e-02\n",
      "N = 4| eps = 6.77e-03| E = 1.2702979371651129| dE = 1.65e-03| dt= 8.16e-02\n",
      "N = 5| eps = 4.02e-03| E = 1.2713962192478265| dE = 1.10e-03| dt= 7.87e-02\n",
      "N = 6| eps = 1.93e-03| E = 1.2719462127371726| dE = 5.50e-04| dt= 9.58e-02\n",
      "N = 7| eps = 1.14e-03| E = 1.2723040829747583| dE = 3.58e-04| dt= 5.52e-02\n",
      "N = 8| eps = 7.01e-04| E = 1.2725020391111994| dE = 1.98e-04| dt= 5.28e-02\n",
      "Convergence achieved at iteration 8\n",
      "The main loops took 0.6587849310000138 seconds.\n",
      "Simulation finished. Pickling results.\n",
      "Pickling to ./vumps/pickles/_t8.pkl\n",
      "{'Iteration': 0.05116015599998036, 'Gradient': 0.03776309699998137, 'HAc': 0.022139348999985486, 'Hc': 0.014509841000005963, 'Gauge Match': 0.0008105600000476443, 'Loss': 0.00029947100000526916, 'Environment': 0.01332132800001773, 'LH': 0.006335860000035609, 'RH': 0.006983303999959389, 'Diagnostics': 0.0015742840000143588, 'Total': 0.052763113000025896}\n"
     ]
    }
   ],
   "source": [
    "chi = 16\n",
    "vumps_params = params.vumps_params()\n",
    "heff_params = params.krylov_params(n_krylov=40, max_restarts=10)\n",
    "env_params = params.gmres_params(n_krylov=40, max_restarts=10)\n",
    "data, timing = drivers.vumps_XX(chi, vumps_params=vumps_params, heff_params=heff_params, env_params=env_params, \n",
    "                                dtype=np.float64, backend=\"numpy\")\n",
    "print(timing)"
   ]
  },
  {
   "cell_type": "code",
   "execution_count": null,
   "metadata": {},
   "outputs": [],
   "source": []
  }
 ],
 "metadata": {
  "kernelspec": {
   "display_name": "Python 3",
   "language": "python",
   "name": "python3"
  },
  "language_info": {
   "codemirror_mode": {
    "name": "ipython",
    "version": 3
   },
   "file_extension": ".py",
   "mimetype": "text/x-python",
   "name": "python",
   "nbconvert_exporter": "python",
   "pygments_lexer": "ipython3",
   "version": "3.7.4"
  }
 },
 "nbformat": 4,
 "nbformat_minor": 2
}
