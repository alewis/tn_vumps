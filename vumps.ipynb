{
 "cells": [
  {
   "cell_type": "code",
   "execution_count": 1,
   "metadata": {},
   "outputs": [],
   "source": [
    "import drivers\n",
    "import params\n",
    "import vumps\n",
    "import matrices\n",
    "import numpy as np\n",
    "import contractions as ct\n",
    "import time\n",
    "import tensornetwork as tn\n",
    "import tensornetwork.linalg.operations\n",
    "import jax\n",
    "import jax.config\n",
    "jax.config.update(\"jax_enable_x64\", True)\n",
    "%load_ext autoreload\n",
    "%autoreload 2"
   ]
  },
  {
   "cell_type": "code",
   "execution_count": 2,
   "metadata": {
    "scrolled": false
   },
   "outputs": [
    {
     "name": "stderr",
     "output_type": "stream",
     "text": [
      "/Users/adam/opt/anaconda3/lib/python3.7/site-packages/jax/lib/xla_bridge.py:116: UserWarning: No GPU/TPU found, falling back to CPU.\n",
      "  warnings.warn('No GPU/TPU found, falling back to CPU.')\n"
     ]
    },
    {
     "name": "stdout",
     "output_type": "stream",
     "text": [
      "vuMPS, a love story.\n",
      "**************************************************************\n",
      "Initial solve time: 1.5790006950000004\n",
      "Initial energy: 0.021150038\n",
      "And so it begins...\n",
      "N = 1| eps = 5.06e-01| E = 1.0057337284088135| dE = 9.85e-01| dt= 3.93e+00\n",
      "N = 2| eps = 4.91e-01| E = 1.0316145420074463| dE = 2.59e-02| dt= 1.12e+00\n",
      "N = 3| eps = 3.64e-01| E = 1.3690930604934692| dE = 3.37e-01| dt= 1.16e+00\n",
      "N = 4| eps = 9.09e-02| E = 1.2606631517410278| dE = 1.08e-01| dt= 1.10e+00\n",
      "N = 5| eps = 6.57e-03| E = 1.2704749107360840| dE = 9.81e-03| dt= 1.10e+00\n",
      "N = 6| eps = 2.78e-03| E = 1.2715026140213013| dE = 1.03e-03| dt= 1.09e+00\n",
      "N = 7| eps = 1.57e-03| E = 1.2720712423324585| dE = 5.69e-04| dt= 1.11e+00\n",
      "N = 8| eps = 9.65e-04| E = 1.2723708152770996| dE = 3.00e-04| dt= 1.10e+00\n",
      "Convergence achieved at iteration 8\n",
      "The main loops took 11.879987503999999 seconds.\n",
      "Simulation finished. Pickling results.\n",
      "Pickling to ./vumps/pickles/_t8.pkl\n",
      "{'Iteration': 1.0997909719999992, 'Gradient': 0.022143824999998785, 'HAc': 0.00416227799999902, 'Hc': 0.007454695000001621, 'Gauge Match': 0.00930434700000049, 'Loss': 0.001218234000001317, 'Environment': 1.0765578250000019, 'LH': 0.5655419239999997, 'RH': 0.5110122369999992, 'Diagnostics': 0.003147804000001031, 'Total': 1.102984450000001}\n"
     ]
    }
   ],
   "source": [
    "chi = 16\n",
    "vumps_params = params.vumps_params()\n",
    "heff_params = params.krylov_params(n_krylov=40, max_restarts=10)\n",
    "env_params = params.gmres_params(n_krylov=40, max_restarts=10)\n",
    "data, timing = drivers.vumps_XX(chi, vumps_params=vumps_params, heff_params=heff_params, env_params=env_params, \n",
    "                                dtype=np.float32, backend=\"jax\")\n",
    "print(timing)"
   ]
  },
  {
   "cell_type": "code",
   "execution_count": 3,
   "metadata": {},
   "outputs": [
    {
     "name": "stdout",
     "output_type": "stream",
     "text": [
      "vuMPS, a love story.\n",
      "**************************************************************\n",
      "Initial solve time: 0.025835689000000883\n",
      "Initial energy: 0.027315743\n",
      "And so it begins...\n",
      "N = 1| eps = 1.35e+00| E = 0.6674837470054626| dE = 6.40e-01| dt= 1.01e-01\n",
      "N = 2| eps = 5.39e-01| E = 1.2345227003097534| dE = 5.67e-01| dt= 9.25e-02\n",
      "N = 3| eps = 6.97e-01| E = 1.1996443271636963| dE = 3.49e-02| dt= 9.28e-02\n",
      "N = 4| eps = 8.01e-01| E = 1.1897722482681274| dE = 9.87e-03| dt= 9.49e-02\n",
      "N = 5| eps = 4.35e-01| E = 1.0220650434494019| dE = 1.68e-01| dt= 9.72e-02\n",
      "N = 6| eps = 8.99e-02| E = 1.2636640071868896| dE = 2.42e-01| dt= 9.46e-02\n",
      "N = 7| eps = 7.17e-03| E = 1.2690889835357666| dE = 5.42e-03| dt= 7.44e-02\n",
      "N = 8| eps = 4.25e-03| E = 1.2711669206619263| dE = 2.08e-03| dt= 7.72e-02\n",
      "N = 9| eps = 3.04e-03| E = 1.2718585729598999| dE = 6.92e-04| dt= 6.04e-02\n",
      "N = 10| eps = 1.87e-03| E = 1.2722179889678955| dE = 3.59e-04| dt= 5.48e-02\n",
      "N = 11| eps = 1.05e-03| E = 1.2724289894104004| dE = 2.11e-04| dt= 5.46e-02\n",
      "N = 12| eps = 5.90e-04| E = 1.2725689411163330| dE = 1.40e-04| dt= 5.73e-02\n",
      "Convergence achieved at iteration 12\n",
      "The main loops took 0.9630386400000006 seconds.\n",
      "Simulation finished. Pickling results.\n",
      "Pickling to ./vumps/pickles/_t12.pkl\n",
      "{'Iteration': 0.05610898699999822, 'Gradient': 0.04132323600000021, 'HAc': 0.023496291000000724, 'Hc': 0.01665223699999885, 'Gauge Match': 0.0008581969999994499, 'Loss': 0.00031209200000148485, 'Environment': 0.014706557000000231, 'LH': 0.007301396999999099, 'RH': 0.007402043000002578, 'Diagnostics': 0.0011515370000019232, 'Total': 0.057276627000000246}\n"
     ]
    }
   ],
   "source": [
    "chi = 16\n",
    "vumps_params = params.vumps_params()\n",
    "heff_params = params.krylov_params(n_krylov=40, max_restarts=10)\n",
    "env_params = params.gmres_params(n_krylov=40, max_restarts=10)\n",
    "data, timing = drivers.vumps_XX(chi, vumps_params=vumps_params, heff_params=heff_params, env_params=env_params, \n",
    "                                dtype=np.float32, backend=\"numpy\")\n",
    "print(timing)"
   ]
  },
  {
   "cell_type": "markdown",
   "metadata": {},
   "source": [
    "# Jax vs Numpy Timings"
   ]
  },
  {
   "cell_type": "markdown",
   "metadata": {},
   "source": [
    "# ncon"
   ]
  },
  {
   "cell_type": "code",
   "execution_count": 77,
   "metadata": {},
   "outputs": [
    {
     "name": "stdout",
     "output_type": "stream",
     "text": [
      "T tn: 0.0005581378936767578\n",
      "T old: 0.0006101131439208984\n"
     ]
    }
   ],
   "source": [
    "chi = 256\n",
    "A = tn.randn((chi, chi), dtype=np.float64, backend=\"jax\")\n",
    "B = tn.randn((chi, chi), dtype=np.float64, backend=\"jax\")\n",
    "C = tn.linalg.operations.ncon([A, B], [[-1, 2], [2, -2]])\n",
    "dummy = C.array.block_until_ready()\n",
    "\n",
    "time0 = time.time()\n",
    "C = tn.linalg.operations.ncon([A, B], [[-1, 2], [2, -2]])\n",
    "dummy = C.array.block_until_ready()\n",
    "time1 = time.time()\n",
    "dt = time1 - time0\n",
    "print(\"T tn:\", dt)\n",
    "\n",
    "time0 = time.time()\n",
    "C = tn.ncon([A.array, B.array], [[-1, 2], [2, -2]], backend=\"jax\")\n",
    "dummy = C.block_until_ready() \n",
    "time1 = time.time()\n",
    "dt = time1 - time0\n",
    "print(\"T old:\", dt)"
   ]
  },
  {
   "cell_type": "markdown",
   "metadata": {},
   "source": [
    "# leftmult"
   ]
  },
  {
   "cell_type": "code",
   "execution_count": 103,
   "metadata": {},
   "outputs": [
    {
     "name": "stdout",
     "output_type": "stream",
     "text": [
      "T jax run1: 0.0075190067291259766\n",
      "T jax run2: 0.0009410381317138672\n",
      "T numpy: 0.0008330345153808594\n"
     ]
    }
   ],
   "source": [
    "chi = 256\n",
    "d = 2\n",
    "A = tn.randn((chi, chi), dtype=np.float64, backend=\"jax\")\n",
    "B = tn.randn((chi, d, chi), dtype=np.float64, backend=\"jax\")\n",
    "\n",
    "time0 = time.time()\n",
    "C = ct.leftmult(A, B)\n",
    "dummy = C.array.block_until_ready()\n",
    "time1 = time.time()\n",
    "dt = time1 - time0\n",
    "print(\"T jax run1:\", dt)\n",
    "\n",
    "time0 = time.time()\n",
    "C = ct.leftmult(A, B)\n",
    "dummy = C.array.block_until_ready()\n",
    "time1 = time.time()\n",
    "dt = time1 - time0\n",
    "print(\"T jax run2:\", dt)\n",
    "\n",
    "A = tn.randn((chi, chi), dtype=np.float64, backend=\"numpy\")\n",
    "B = tn.randn((chi, d, chi), dtype=np.float64, backend=\"numpy\")\n",
    "\n",
    "time0 = time.time()\n",
    "C = ct.leftmult(A, B)\n",
    "time1 = time.time()\n",
    "dt = time1 - time0\n",
    "print(\"T numpy:\", dt)"
   ]
  },
  {
   "cell_type": "markdown",
   "metadata": {},
   "source": [
    "# XopL"
   ]
  },
  {
   "cell_type": "code",
   "execution_count": 108,
   "metadata": {},
   "outputs": [
    {
     "name": "stdout",
     "output_type": "stream",
     "text": [
      "T jax run1: 0.0015943050384521484\n",
      "T jax run2: 0.0018112659454345703\n",
      "T numpy: 0.0017979145050048828\n"
     ]
    }
   ],
   "source": [
    "chi = 256\n",
    "d = 2\n",
    "A = tn.randn((chi, chi), dtype=np.float64, backend=\"jax\")\n",
    "B = tn.randn((chi, d, chi), dtype=np.float64, backend=\"jax\")\n",
    "\n",
    "time0 = time.time()\n",
    "C = ct.XopL(B, A)\n",
    "dummy = C.array.block_until_ready()\n",
    "time1 = time.time()\n",
    "dt = time1 - time0\n",
    "print(\"T jax run1:\", dt)\n",
    "\n",
    "time0 = time.time()\n",
    "C = ct.XopL(B, A)\n",
    "dummy = C.array.block_until_ready()\n",
    "time1 = time.time()\n",
    "dt = time1 - time0\n",
    "print(\"T jax run2:\", dt)\n",
    "\n",
    "A = tn.randn((chi, chi), dtype=np.float64, backend=\"numpy\")\n",
    "B = tn.randn((chi, d, chi), dtype=np.float64, backend=\"numpy\")\n",
    "\n",
    "time0 = time.time()\n",
    "C = ct.XopL(B, A)\n",
    "time1 = time.time()\n",
    "dt = time1 - time0\n",
    "print(\"T numpy:\", dt)"
   ]
  },
  {
   "cell_type": "markdown",
   "metadata": {},
   "source": [
    "# apply Hc"
   ]
  },
  {
   "cell_type": "code",
   "execution_count": 14,
   "metadata": {},
   "outputs": [
    {
     "name": "stdout",
     "output_type": "stream",
     "text": [
      "T jax run1: 0.07713603973388672\n",
      "T jax run2: 0.0018491744995117188\n",
      "T numpy run1: 0.0010991096496582031\n"
     ]
    }
   ],
   "source": [
    "chi = 32\n",
    "d = 2\n",
    "dtype = np.float64\n",
    "A_L, C, A_R, H = random_hermitian_system(\"jax\", dtype, chi, d)\n",
    "LH = random_hermitian_matrix(\"jax\", dtype, chi)\n",
    "RH = random_hermitian_matrix(\"jax\", dtype, chi)\n",
    "\n",
    "time0 = time.time()\n",
    "newC = ct.apply_Hc(C, A_L, A_R, [H, LH, RH])\n",
    "dummy = newC.array.block_until_ready()\n",
    "time1 = time.time()\n",
    "dt = time1 - time0\n",
    "print(\"T jax run1:\", dt)\n",
    "\n",
    "time0 = time.time()\n",
    "newC = ct.apply_Hc(C, A_L, A_R, [H, LH, RH])\n",
    "dummy = newC.array.block_until_ready()\n",
    "time1 = time.time()\n",
    "dt = time1 - time0\n",
    "print(\"T jax run2:\", dt)\n",
    "\n",
    "A_L, C, A_R, H = random_hermitian_system(\"numpy\", dtype, chi, d)\n",
    "LH = random_hermitian_matrix(\"numpy\", dtype, chi)\n",
    "RH = random_hermitian_matrix(\"numpy\", dtype, chi)\n",
    "time0 = time.time()\n",
    "newC = ct.apply_Hc(C, A_L, A_R, [H, LH, RH])\n",
    "time1 = time.time()\n",
    "dt = time1 - time0\n",
    "print(\"T numpy run1:\", dt)"
   ]
  },
  {
   "cell_type": "markdown",
   "metadata": {},
   "source": [
    "# Hc matvec"
   ]
  },
  {
   "cell_type": "code",
   "execution_count": 20,
   "metadata": {},
   "outputs": [
    {
     "name": "stdout",
     "output_type": "stream",
     "text": [
      "T jax run1: 0.055910348892211914\n",
      "T jax run2: 0.008743762969970703\n",
      "T numpy run1: 0.011023998260498047\n"
     ]
    }
   ],
   "source": [
    "chi = 256\n",
    "d = 2\n",
    "dtype = np.float64\n",
    "A_L, C, A_R, H = random_hermitian_system(\"jax\", dtype, chi, d)\n",
    "LH = random_hermitian_matrix(\"jax\", dtype, chi)\n",
    "RH = random_hermitian_matrix(\"jax\", dtype, chi)\n",
    "\n",
    "time0 = time.time()\n",
    "newC = vumps.Hc_matvec(C.array, A_L.array, A_R.array, H.array, LH.array, RH.array, \"jax\")\n",
    "dummy = newC.block_until_ready()\n",
    "time1 = time.time()\n",
    "dt = time1 - time0\n",
    "print(\"T jax run1:\", dt)\n",
    "\n",
    "time0 = time.time()\n",
    "newC = vumps.Hc_matvec(C.array, A_L.array, A_R.array, H.array, LH.array, RH.array, \"jax\")\n",
    "dummy = newC.block_until_ready()\n",
    "time1 = time.time()\n",
    "dt = time1 - time0\n",
    "print(\"T jax run2:\", dt)\n",
    "\n",
    "A_L, C, A_R, H = random_hermitian_system(\"numpy\", dtype, chi, d)\n",
    "LH = random_hermitian_matrix(\"numpy\", dtype, chi)\n",
    "RH = random_hermitian_matrix(\"numpy\", dtype, chi)\n",
    "time0 = time.time()\n",
    "newC = vumps.Hc_matvec(C.array, A_L.array, A_R.array, H.array, LH.array, RH.array, \"numpy\")\n",
    "time1 = time.time()\n",
    "dt = time1 - time0\n",
    "print(\"T numpy run1:\", dt)"
   ]
  },
  {
   "cell_type": "markdown",
   "metadata": {},
   "source": [
    "# Minimize Hc"
   ]
  },
  {
   "cell_type": "code",
   "execution_count": 2,
   "metadata": {},
   "outputs": [],
   "source": [
    "def random_hermitian_system(backend, dtype, chi, d):\n",
    "  \"\"\"\n",
    "  Return A_L, C, A_R representing a normalized quantum state and a Hermitian\n",
    "  H.\n",
    "  \"\"\"\n",
    "  A_1 = tn.randn((chi, d, chi), dtype=dtype, backend=backend, seed=10)\n",
    "  A_L, _ = tn.linalg.linalg.qr(A_1, pivot_axis=2, non_negative_diagonal=True)\n",
    "  C, A_R = tn.linalg.linalg.rq(A_L, pivot_axis=1, non_negative_diagonal=True)\n",
    "  C /= tn.linalg.linalg.norm(C)\n",
    "  H = tn.randn((d, d, d, d), dtype=dtype, backend=backend, seed=10)\n",
    "  H = H.reshape((d*d, d*d))\n",
    "  H = 0.5*(H + H.H)\n",
    "  H = H.reshape((d, d, d, d))\n",
    "  return (A_L, C, A_R, H)\n",
    "\n",
    "def random_hermitian_matrix(backend, dtype, chi):\n",
    "  A = tn.randn((chi, chi), dtype=dtype, backend=backend, seed=10)\n",
    "  return 0.5*(A + A.H)"
   ]
  },
  {
   "cell_type": "code",
   "execution_count": 34,
   "metadata": {
    "scrolled": false
   },
   "outputs": [
    {
     "name": "stdout",
     "output_type": "stream",
     "text": [
      "T jax run1: 0.8778889179229736\n",
      "T jax run2: 0.8458349704742432\n",
      "T numpy run1: 0.3234670162200928\n"
     ]
    }
   ],
   "source": [
    "chi = 128\n",
    "d = 2\n",
    "dtype = np.float64\n",
    "A_L, C, A_R, H = random_hermitian_system(\"jax\", dtype, chi, d)\n",
    "A_C = ct.leftmult(C, A_R)\n",
    "LH = random_hermitian_matrix(\"jax\", dtype, chi)\n",
    "RH = random_hermitian_matrix(\"jax\", dtype, chi)\n",
    "the_params = params.krylov_params(n_krylov=chi, max_restarts=5)\n",
    "\n",
    "time0 = time.time()\n",
    "_, newC = vumps.minimize_HAc([A_L, C, A_R], A_C, [H, LH, RH], 0.1, the_params)\n",
    "dummy = newC.array.block_until_ready()\n",
    "time1 = time.time()\n",
    "dt = time1 - time0\n",
    "print(\"T jax run1:\", dt)\n",
    "\n",
    "time0 = time.time()\n",
    "_, newC = vumps.minimize_HAc([A_L, C, A_R], A_C, [H, LH, RH], 0.1, the_params)\n",
    "dummy = newC.array.block_until_ready()\n",
    "time1 = time.time()\n",
    "dt = time1 - time0\n",
    "print(\"T jax run2:\", dt)\n",
    "\n",
    "A_L, C, A_R, H = random_hermitian_system(\"numpy\", dtype, chi, d)\n",
    "A_C = ct.leftmult(C, A_R)\n",
    "LH = random_hermitian_matrix(\"numpy\", dtype, chi)\n",
    "RH = random_hermitian_matrix(\"numpy\", dtype, chi)\n",
    "time0 = time.time()\n",
    "_, newC = vumps.minimize_HAc([A_L, C, A_R], A_C, [H, LH, RH], 0.1, the_params)\n",
    "time1 = time.time()\n",
    "dt = time1 - time0\n",
    "print(\"T numpy run1:\", dt)"
   ]
  },
  {
   "cell_type": "code",
   "execution_count": null,
   "metadata": {},
   "outputs": [],
   "source": [
    "D=chi*chi*d\n",
    "dtype=np.float64\n",
    "matrix = jax.numpy.array(np.random.rand(D,D).astype(dtype))\n",
    "vector = jax.numpy.array(np.random.rand(D,).astype(dtype))\n",
    "@jax.jit\n",
    "def matvec_jax_matrix(vec,matrix):\n",
    "    return jax.numpy.tensordot(matrix, vec,([1],[0]))\n",
    "jax_backend = tn.backends.jax.jax_backend.JaxBackend()\n",
    "ncv=10\n",
    "t1 = time.time()\n",
    "eta_j, U_j = jax_backend.eigsh_lanczos(matvec_jax_matrix,[matrix],vector,num_krylov_vecs = ncv,numeig=1, \n",
    "                                       reorthogonalize=False)\n",
    "print('jax eigvals:', eta_j)\n",
    "t2 = time.time()\n",
    "eta_j, U_j = jax_backend.eigsh_lanczos(matvec_jax_matrix,[matrix],vector,num_krylov_vecs = ncv,numeig=1, \n",
    "                                       reorthogonalize=False)\n",
    "\n",
    "print('jax eigvals:', eta_j)\n",
    "t3 = time.time()\n",
    "print('jax first:', t2 - t1)\n",
    "print('jax second:', t3 - t2)"
   ]
  },
  {
   "cell_type": "code",
   "execution_count": null,
   "metadata": {},
   "outputs": [],
   "source": []
  }
 ],
 "metadata": {
  "kernelspec": {
   "display_name": "Python 3",
   "language": "python",
   "name": "python3"
  },
  "language_info": {
   "codemirror_mode": {
    "name": "ipython",
    "version": 3
   },
   "file_extension": ".py",
   "mimetype": "text/x-python",
   "name": "python",
   "nbconvert_exporter": "python",
   "pygments_lexer": "ipython3",
   "version": "3.7.4"
  }
 },
 "nbformat": 4,
 "nbformat_minor": 2
}
